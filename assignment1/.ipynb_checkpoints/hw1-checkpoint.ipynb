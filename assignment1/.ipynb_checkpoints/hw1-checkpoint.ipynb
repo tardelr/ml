{
 "cells": [
  {
   "cell_type": "code",
   "execution_count": 181,
   "metadata": {
    "collapsed": false,
    "inputHidden": false,
    "outputHidden": false
   },
   "outputs": [],
   "source": [
    "import numpy as np\n",
    "import sys\n",
    "import matplotlib.pyplot as plt"
   ]
  },
  {
   "cell_type": "code",
   "execution_count": 182,
   "metadata": {
    "collapsed": false,
    "inputHidden": false,
    "outputHidden": false
   },
   "outputs": [],
   "source": [
    "%matplotlib inline"
   ]
  },
  {
   "cell_type": "code",
   "execution_count": 183,
   "metadata": {
    "collapsed": false,
    "inputHidden": false,
    "outputHidden": false
   },
   "outputs": [],
   "source": [
    "# lambda_input = int(sys.argv[1])\n",
    "# sigma2_input = float(sys.argv[2])\n",
    "# X_train = np.genfromtxt(sys.argv[3], delimiter = \",\")\n",
    "# y_train = np.genfromtxt(sys.argv[4])\n",
    "# X_test = np.genfromtxt(sys.argv[5], delimiter = \",\")"
   ]
  },
  {
   "cell_type": "code",
   "execution_count": 184,
   "metadata": {
    "collapsed": false,
    "inputHidden": false,
    "outputHidden": false
   },
   "outputs": [],
   "source": [
    "x=np.linspace(0.1,10,1000)\n",
    "feat1=np.sin(x)+x\n",
    "feat2=np.log(x)\n",
    "feat3=x**2\n",
    "y=x"
   ]
  },
  {
   "cell_type": "code",
   "execution_count": 185,
   "metadata": {
    "collapsed": false,
    "inputHidden": false,
    "outputHidden": false
   },
   "outputs": [],
   "source": [
    "X_train=np.vstack([feat1, feat2, feat3])[:,:900]\n",
    "X_test=np.vstack([feat1, feat2, feat3])[:,900:]"
   ]
  },
  {
   "cell_type": "code",
   "execution_count": 186,
   "metadata": {
    "collapsed": false,
    "inputHidden": false,
    "outputHidden": false
   },
   "outputs": [],
   "source": [
    "y_train = y[:900]\n",
    "y_test = y[900:]"
   ]
  },
  {
   "cell_type": "code",
   "execution_count": 187,
   "metadata": {
    "collapsed": false,
    "inputHidden": false,
    "outputHidden": false
   },
   "outputs": [],
   "source": [
    "## Solution for Part 1\n",
    "def ridge_regression(X_train, y_train, lambda_input):\n",
    "\tn,d = X_train.shape\n",
    "\tinner_part = np.linalg.inv(lambda_input*np.eye(n) + np.dot(X_train,X_train.T))\n",
    "\treturn np.dot( np.dot(inner_part, X_train), y_train)\n",
    "\n",
    "wRR = ridge_regression(X_train, y_train, 5)"
   ]
  },
  {
   "cell_type": "code",
   "execution_count": 188,
   "metadata": {
    "inputHidden": false,
    "outputHidden": false
   },
   "outputs": [],
   "source": [
    "## Solution for Part 2\n",
    "def trick_to_avoid_sum(matrix):\n",
    "    d,n = martix.shape\n",
    "    return sum(matrix * matrix.T * np.eye(d))\n",
    "\n",
    "def covariance_matrix(X,y,lmbda,sig):\n",
    "    d,n = X.shape\n",
    "    return np.linalg.inv((lmbda * np.eye(d)) + (sig ** -2) * np.dot(X, X.T))\n",
    "\n",
    "def mu_map(lmbda, sigma2, X, y):\n",
    "    d,n = X.shape\n",
    "    return np.dot(np.linalg.inv(lmbda * sigma2 * np.eye(d) + np.dot(X,X.T)), np.dot(X, y))\n",
    "\n",
    "def covariance_posterior(X, x0, lmbda, sigma2_input):\n",
    "    n,d = X.shape\n",
    "    inner_part= (x0 * x0.T + trick_to_avoid_sum(X))\n",
    "    return np.linalg.inv(lmbda * np.eye(d) + (sigma2_input ** -1) * inner_part)\n",
    "\n",
    "def mu_posterior(X, y, x0, y0, lmbda, sigma2_input):\n",
    "    inner_part_first = (x0 * x0.T + trick_to_avoid_sum(X))\n",
    "    first_term = np.linalg.inv(lmbda * sigma2_input * np.eye(d) + inner_part_first)\n",
    "    second_term = np.dot(x0, y0) + sum(X * y.T * np.eye(d))\n",
    "    return first_term + second_term\n",
    "\n",
    "def sigma2_posterior(sigma2_prior, x0, covariance):\n",
    "    return sigma2_prior + x0.T * covariance * x0\n",
    "\n",
    "def vmv_product(vector, matrix):\n",
    "    return np.dot( np.dot(vector.T, matrix), vector)\n",
    "\n",
    "def sort_new_data(new_data):\n",
    "    return "
   ]
  },
  {
   "cell_type": "markdown",
   "metadata": {},
   "source": [
    "### Step 0"
   ]
  },
  {
   "cell_type": "code",
   "execution_count": 189,
   "metadata": {},
   "outputs": [],
   "source": [
    "sig = 2\n",
    "input_lambda = 5"
   ]
  },
  {
   "cell_type": "code",
   "execution_count": 190,
   "metadata": {},
   "outputs": [],
   "source": [
    "lmbda = input_lambda\n",
    "sigma2 = sig\n",
    "X = X_train\n",
    "y = y_train\n",
    "d,_=X.shape"
   ]
  },
  {
   "cell_type": "markdown",
   "metadata": {},
   "source": [
    "### Step 1\n",
    "\n",
    "`Form predictive distribution p(y0|x0, y, X) for all unmeasured x0 in D`"
   ]
  },
  {
   "cell_type": "code",
   "execution_count": 209,
   "metadata": {
    "collapsed": false,
    "inputHidden": false,
    "outputHidden": false
   },
   "outputs": [],
   "source": [
    "cmatrix=covariance_matrix(X_train, y_train, input_lambda, sig)"
   ]
  },
  {
   "cell_type": "code",
   "execution_count": 210,
   "metadata": {},
   "outputs": [],
   "source": [
    "mu=mu_map(input_lambda, sig, X_train, y_train)"
   ]
  },
  {
   "cell_type": "markdown",
   "metadata": {},
   "source": [
    "### Step 2\n",
    "\n",
    "`Pick the x0 for which \u000002 is largest and measure y0`"
   ]
  },
  {
   "cell_type": "code",
   "execution_count": 211,
   "metadata": {},
   "outputs": [],
   "source": [
    "index0 = np.argsort(map(lambda x: vmv_product(x, cmatrix), X_test.T))[-1]"
   ]
  },
  {
   "cell_type": "markdown",
   "metadata": {},
   "source": [
    "### Step 3\n",
    "\n",
    "`Update the posterior p(w|y,X) where y<-(y,y0) and X<-(X,x0)`"
   ]
  },
  {
   "cell_type": "code",
   "execution_count": 212,
   "metadata": {},
   "outputs": [
    {
     "data": {
      "text/plain": [
       "(3, 903)"
      ]
     },
     "execution_count": 212,
     "metadata": {},
     "output_type": "execute_result"
    }
   ],
   "source": [
    "X_train.shape"
   ]
  },
  {
   "cell_type": "code",
   "execution_count": 213,
   "metadata": {},
   "outputs": [],
   "source": [
    "x0 = X_test[:, index0]\n",
    "y0 = y_test[index0]"
   ]
  },
  {
   "cell_type": "code",
   "execution_count": 214,
   "metadata": {},
   "outputs": [],
   "source": [
    "X_train = np.column_stack([X_train, x0])\n",
    "y_train = np.hstack([y_train, y0])"
   ]
  },
  {
   "cell_type": "markdown",
   "metadata": {},
   "source": [
    "### Step 4\n",
    "`Return to Step 1, using the updated posterior`"
   ]
  }
 ],
 "metadata": {
  "kernel_info": {
   "name": "python2"
  },
  "kernelspec": {
   "display_name": "Python [default]",
   "language": "python",
   "name": "python2"
  },
  "language_info": {
   "codemirror_mode": {
    "name": "ipython",
    "version": 2
   },
   "file_extension": ".py",
   "mimetype": "text/x-python",
   "name": "python",
   "nbconvert_exporter": "python",
   "pygments_lexer": "ipython2",
   "version": "2.7.15"
  },
  "nteract": {
   "version": "0.12.3"
  }
 },
 "nbformat": 4,
 "nbformat_minor": 4
}
